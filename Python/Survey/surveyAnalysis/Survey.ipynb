{
 "cells": [
  {
   "cell_type": "code",
   "execution_count": 2,
   "id": "ed9bbb08-02c7-4031-bb59-35e7e98c53f5",
   "metadata": {},
   "outputs": [],
   "source": [
    "import pandas as pd\n",
    "import matplotlib.pyplot as plt\n",
    "import plotly.express as px\n",
    "import seaborn as sns "
   ]
  },
  {
   "cell_type": "code",
   "execution_count": 3,
   "id": "d9bf2f01-d2de-467d-967d-3cfb283a2c08",
   "metadata": {},
   "outputs": [],
   "source": [
    "survey= pd.read_csv(\"CustomerFeedback.csv\")"
   ]
  },
  {
   "cell_type": "code",
   "execution_count": 4,
   "id": "eeaf7f61-fda7-4064-a10d-20426f5c0a36",
   "metadata": {},
   "outputs": [
    {
     "name": "stdout",
     "output_type": "stream",
     "text": [
      "<class 'pandas.core.frame.DataFrame'>\n",
      "RangeIndex: 244 entries, 0 to 243\n",
      "Data columns (total 19 columns):\n",
      " #   Column                            Non-Null Count  Dtype \n",
      "---  ------                            --------------  ----- \n",
      " 0   Timestamp                         244 non-null    object\n",
      " 1   Age_Group                         244 non-null    object\n",
      " 2   Gender                            244 non-null    object\n",
      " 3   Location                          244 non-null    object\n",
      " 4   Occupation                        244 non-null    object\n",
      " 5   Platform_Suitability              244 non-null    object\n",
      " 6   First_Heard                       244 non-null    object\n",
      " 7   Planner_Feature                   244 non-null    object\n",
      " 8   Willing_to_Pay                    244 non-null    object\n",
      " 9   Interested_Products               244 non-null    object\n",
      " 10  Purchase_Gift                     244 non-null    object\n",
      " 11  Promotion_Encouragement           244 non-null    object\n",
      " 12   Purchase_Barrier                 170 non-null    object\n",
      " 13  Purchase_Time                     244 non-null    object\n",
      " 14  Purchased                         244 non-null    object\n",
      " 15  Encountered_Problems              111 non-null    object\n",
      " 16  If yes, please specify the issue  27 non-null     object\n",
      " 17  Satisfaction                      111 non-null    object\n",
      " 18  Buy_Again                         111 non-null    object\n",
      "dtypes: object(19)\n",
      "memory usage: 36.3+ KB\n"
     ]
    }
   ],
   "source": [
    "survey.info()"
   ]
  },
  {
   "cell_type": "code",
   "execution_count": 164,
   "id": "dd7a6f45-1709-4617-96ca-7b5a419f4235",
   "metadata": {},
   "outputs": [
    {
     "data": {
      "text/html": [
       "<div>\n",
       "<style scoped>\n",
       "    .dataframe tbody tr th:only-of-type {\n",
       "        vertical-align: middle;\n",
       "    }\n",
       "\n",
       "    .dataframe tbody tr th {\n",
       "        vertical-align: top;\n",
       "    }\n",
       "\n",
       "    .dataframe thead th {\n",
       "        text-align: right;\n",
       "    }\n",
       "</style>\n",
       "<table border=\"1\" class=\"dataframe\">\n",
       "  <thead>\n",
       "    <tr style=\"text-align: right;\">\n",
       "      <th></th>\n",
       "      <th>Timestamp</th>\n",
       "      <th>Age_Group</th>\n",
       "      <th>Gender</th>\n",
       "      <th>Location</th>\n",
       "      <th>Occupation</th>\n",
       "      <th>Platform_Suitability</th>\n",
       "      <th>First_Heard</th>\n",
       "      <th>Planner_Feature</th>\n",
       "      <th>Willing_to_Pay</th>\n",
       "      <th>Interested_Products</th>\n",
       "      <th>Purchase_Gift</th>\n",
       "      <th>Promotion_Encouragement</th>\n",
       "      <th>Purchase_Barrier</th>\n",
       "      <th>Purchase_Time</th>\n",
       "      <th>Purchased</th>\n",
       "      <th>Encountered_Problems</th>\n",
       "      <th>If yes, please specify the issue</th>\n",
       "      <th>Satisfaction</th>\n",
       "      <th>Buy_Again</th>\n",
       "    </tr>\n",
       "  </thead>\n",
       "  <tbody>\n",
       "    <tr>\n",
       "      <th>0</th>\n",
       "      <td>9/11/2024 19:37</td>\n",
       "      <td>Under 18</td>\n",
       "      <td>Female</td>\n",
       "      <td>Cairo</td>\n",
       "      <td>Student</td>\n",
       "      <td>Instagram</td>\n",
       "      <td>Instagram</td>\n",
       "      <td>Design &amp; Style</td>\n",
       "      <td>200-250 EGP</td>\n",
       "      <td>Weekly planners</td>\n",
       "      <td>Yes</td>\n",
       "      <td>Free shipping</td>\n",
       "      <td>I’m not sure how to organize my time</td>\n",
       "      <td>No specific time</td>\n",
       "      <td>No</td>\n",
       "      <td>NaN</td>\n",
       "      <td>NaN</td>\n",
       "      <td>NaN</td>\n",
       "      <td>NaN</td>\n",
       "    </tr>\n",
       "    <tr>\n",
       "      <th>1</th>\n",
       "      <td>9/11/2024 19:40</td>\n",
       "      <td>18-24</td>\n",
       "      <td>Female</td>\n",
       "      <td>Delta</td>\n",
       "      <td>Student</td>\n",
       "      <td>Instagram</td>\n",
       "      <td>Instagram</td>\n",
       "      <td>Design &amp; Style</td>\n",
       "      <td>250-350 EGP</td>\n",
       "      <td>Notebooks, Planner accessories (e.g., stickers...</td>\n",
       "      <td>Yes</td>\n",
       "      <td>Free shipping</td>\n",
       "      <td>I’m not sure how to organize my time</td>\n",
       "      <td>At the start of a new year (January or December)</td>\n",
       "      <td>No</td>\n",
       "      <td>NaN</td>\n",
       "      <td>NaN</td>\n",
       "      <td>NaN</td>\n",
       "      <td>NaN</td>\n",
       "    </tr>\n",
       "    <tr>\n",
       "      <th>2</th>\n",
       "      <td>9/11/2024 19:40</td>\n",
       "      <td>18-24</td>\n",
       "      <td>Female</td>\n",
       "      <td>Cairo</td>\n",
       "      <td>Both</td>\n",
       "      <td>Instagram</td>\n",
       "      <td>Friend</td>\n",
       "      <td>Inner Structure (All-in-one, Undated, Free Whi...</td>\n",
       "      <td>250-350 EGP</td>\n",
       "      <td>Notebooks, Planner accessories (e.g., stickers...</td>\n",
       "      <td>Yes</td>\n",
       "      <td>Loyalty programs</td>\n",
       "      <td>NaN</td>\n",
       "      <td>No specific time</td>\n",
       "      <td>Yes</td>\n",
       "      <td>No</td>\n",
       "      <td>NaN</td>\n",
       "      <td>Not satisfied</td>\n",
       "      <td>Yes</td>\n",
       "    </tr>\n",
       "    <tr>\n",
       "      <th>3</th>\n",
       "      <td>9/11/2024 19:41</td>\n",
       "      <td>18-24</td>\n",
       "      <td>Female</td>\n",
       "      <td>Cairo</td>\n",
       "      <td>Student</td>\n",
       "      <td>Instagram</td>\n",
       "      <td>Influencer</td>\n",
       "      <td>Inner Structure (All-in-one, Undated, Free Whi...</td>\n",
       "      <td>250-350 EGP</td>\n",
       "      <td>To-do lists</td>\n",
       "      <td>Maybe</td>\n",
       "      <td>Discount codes</td>\n",
       "      <td>Product price</td>\n",
       "      <td>At the beginning of a new school semester (Sep...</td>\n",
       "      <td>No</td>\n",
       "      <td>NaN</td>\n",
       "      <td>NaN</td>\n",
       "      <td>NaN</td>\n",
       "      <td>NaN</td>\n",
       "    </tr>\n",
       "    <tr>\n",
       "      <th>4</th>\n",
       "      <td>9/11/2024 19:41</td>\n",
       "      <td>18-24</td>\n",
       "      <td>Female</td>\n",
       "      <td>Cairo</td>\n",
       "      <td>Student</td>\n",
       "      <td>Instagram</td>\n",
       "      <td>Instagram</td>\n",
       "      <td>Inner Structure (All-in-one, Undated, Free Whi...</td>\n",
       "      <td>250-350 EGP</td>\n",
       "      <td>Notebooks, Planner accessories (e.g., stickers...</td>\n",
       "      <td>Yes</td>\n",
       "      <td>Discount codes</td>\n",
       "      <td>NaN</td>\n",
       "      <td>At the beginning of a new school semester (Sep...</td>\n",
       "      <td>No</td>\n",
       "      <td>NaN</td>\n",
       "      <td>NaN</td>\n",
       "      <td>NaN</td>\n",
       "      <td>NaN</td>\n",
       "    </tr>\n",
       "  </tbody>\n",
       "</table>\n",
       "</div>"
      ],
      "text/plain": [
       "         Timestamp Age_Group  Gender Location Occupation Platform_Suitability  \\\n",
       "0  9/11/2024 19:37  Under 18  Female    Cairo    Student            Instagram   \n",
       "1  9/11/2024 19:40     18-24  Female    Delta    Student            Instagram   \n",
       "2  9/11/2024 19:40     18-24  Female    Cairo       Both            Instagram   \n",
       "3  9/11/2024 19:41     18-24  Female    Cairo    Student            Instagram   \n",
       "4  9/11/2024 19:41     18-24  Female    Cairo    Student            Instagram   \n",
       "\n",
       "  First_Heard                                    Planner_Feature  \\\n",
       "0   Instagram                                     Design & Style   \n",
       "1   Instagram                                     Design & Style   \n",
       "2      Friend  Inner Structure (All-in-one, Undated, Free Whi...   \n",
       "3  Influencer  Inner Structure (All-in-one, Undated, Free Whi...   \n",
       "4   Instagram  Inner Structure (All-in-one, Undated, Free Whi...   \n",
       "\n",
       "  Willing_to_Pay                                Interested_Products  \\\n",
       "0    200-250 EGP                                    Weekly planners   \n",
       "1    250-350 EGP  Notebooks, Planner accessories (e.g., stickers...   \n",
       "2    250-350 EGP  Notebooks, Planner accessories (e.g., stickers...   \n",
       "3    250-350 EGP                                        To-do lists   \n",
       "4    250-350 EGP  Notebooks, Planner accessories (e.g., stickers...   \n",
       "\n",
       "  Purchase_Gift Promotion_Encouragement                      Purchase_Barrier  \\\n",
       "0           Yes           Free shipping  I’m not sure how to organize my time   \n",
       "1           Yes           Free shipping  I’m not sure how to organize my time   \n",
       "2           Yes        Loyalty programs                                   NaN   \n",
       "3         Maybe          Discount codes                         Product price   \n",
       "4           Yes          Discount codes                                   NaN   \n",
       "\n",
       "                                       Purchase_Time Purchased  \\\n",
       "0                                   No specific time        No   \n",
       "1   At the start of a new year (January or December)        No   \n",
       "2                                   No specific time       Yes   \n",
       "3  At the beginning of a new school semester (Sep...        No   \n",
       "4  At the beginning of a new school semester (Sep...        No   \n",
       "\n",
       "  Encountered_Problems If yes, please specify the issue   Satisfaction  \\\n",
       "0                  NaN                              NaN            NaN   \n",
       "1                  NaN                              NaN            NaN   \n",
       "2                   No                              NaN  Not satisfied   \n",
       "3                  NaN                              NaN            NaN   \n",
       "4                  NaN                              NaN            NaN   \n",
       "\n",
       "  Buy_Again  \n",
       "0       NaN  \n",
       "1       NaN  \n",
       "2       Yes  \n",
       "3       NaN  \n",
       "4       NaN  "
      ]
     },
     "execution_count": 164,
     "metadata": {},
     "output_type": "execute_result"
    }
   ],
   "source": [
    "survey.head()"
   ]
  },
  {
   "cell_type": "code",
   "execution_count": 232,
   "id": "903d0854-c4de-4286-9a65-4b4945d799fb",
   "metadata": {},
   "outputs": [
    {
     "data": {
      "text/plain": [
       "Location\n",
       "Cairo          105\n",
       "Delta           55\n",
       "Giza            41\n",
       "Alexandria      22\n",
       "Upper Egypt     21\n",
       "Name: count, dtype: int64"
      ]
     },
     "execution_count": 232,
     "metadata": {},
     "output_type": "execute_result"
    }
   ],
   "source": [
    "# What is the distribution of location among respondents?\n",
    "location = survey['Location'].value_counts()\n",
    "location.sort_values(ascending=False)"
   ]
  },
  {
   "cell_type": "code",
   "execution_count": 174,
   "id": "e809d4c1-212f-47a7-8fe0-34b620a7f25d",
   "metadata": {},
   "outputs": [
    {
     "data": {
      "text/plain": [
       "Occupation\n",
       "Student             165\n",
       "Employee             35\n",
       "Both                 31\n",
       "nullof the above     13\n",
       "Name: count, dtype: int64"
      ]
     },
     "execution_count": 174,
     "metadata": {},
     "output_type": "execute_result"
    }
   ],
   "source": [
    "# What is the distribution of occupations among respondents?\n",
    "occupation= survey['Occupation'].value_counts()\n",
    "occupation.sort_values(ascending=False)"
   ]
  },
  {
   "cell_type": "code",
   "execution_count": 175,
   "id": "e5575442-1984-420f-bfaa-61b099445c0e",
   "metadata": {},
   "outputs": [
    {
     "data": {
      "text/plain": [
       "Willing_to_Pay\n",
       "250-350 EGP    114\n",
       "200-250 EGP    101\n",
       "350-450 EGP     23\n",
       "450-550 EGP      6\n",
       "Name: count, dtype: int64"
      ]
     },
     "execution_count": 175,
     "metadata": {},
     "output_type": "execute_result"
    }
   ],
   "source": [
    "# How much are customers willing to pay for the planner?\n",
    "Willing_to_Pay=survey['Willing_to_Pay'].value_counts()\n",
    "Willing_to_Pay.sort_values(ascending=False)"
   ]
  },
  {
   "cell_type": "code",
   "execution_count": 165,
   "id": "ec9b813d-ad69-4255-b85b-5b124f2895dd",
   "metadata": {},
   "outputs": [
    {
     "data": {
      "text/plain": [
       "First_Heard\n",
       "Instagram      106\n",
       "Friend          39\n",
       "Influencer      39\n",
       "Brand owner     27\n",
       "TikTok          23\n",
       "Facebook        10\n",
       "Name: count, dtype: int64"
      ]
     },
     "execution_count": 165,
     "metadata": {},
     "output_type": "execute_result"
    }
   ],
   "source": [
    "# How did customers first learn about the brand?\n",
    "First_Heard= survey['First_Heard'].value_counts()\n",
    "First_Heard.sort_values(ascending=False)"
   ]
  },
  {
   "cell_type": "code",
   "execution_count": 166,
   "id": "47cc5197-2e42-454d-bb87-fe466fb1ce45",
   "metadata": {},
   "outputs": [
    {
     "data": {
      "text/plain": [
       "Planner_Feature\n",
       "Inner Structure (All-in-one, Undated, Free White Spaces,etc)    162\n",
       "Design & Style                                                   54\n",
       "Size & Ease of Use                                               18\n",
       "All of the above                                                 10\n",
       "Name: count, dtype: int64"
      ]
     },
     "execution_count": 166,
     "metadata": {},
     "output_type": "execute_result"
    }
   ],
   "source": [
    "# What features do customers value the most in the planner?\n",
    "Planner_Feature= survey['Planner_Feature'].value_counts()\n",
    "Planner_Feature.sort_values(ascending=False)"
   ]
  },
  {
   "cell_type": "code",
   "execution_count": 167,
   "id": "84160b9e-aeb4-4bc0-9213-23f90c86b134",
   "metadata": {},
   "outputs": [
    {
     "data": {
      "text/plain": [
       "Promotion_Encouragement\n",
       "Discount codes                     113\n",
       "Free shipping                       91\n",
       "Limited edition designs             17\n",
       "Buy one, get 30% off the second     16\n",
       "Loyalty programs                     7\n",
       "Name: count, dtype: int64"
      ]
     },
     "execution_count": 167,
     "metadata": {},
     "output_type": "execute_result"
    }
   ],
   "source": [
    "# Which promotion would you enjoy the most?\n",
    "Promotion_Encouragement=survey['Promotion_Encouragement'].value_counts()\n",
    "Promotion_Encouragement.sort_values(ascending=False)"
   ]
  },
  {
   "cell_type": "code",
   "execution_count": 168,
   "id": "f6939111-20aa-4c6a-bdde-97617d3e6f5b",
   "metadata": {},
   "outputs": [
    {
     "data": {
      "text/plain": [
       " Purchase_Barrier\n",
       "Product price                           82\n",
       "I’m not sure how to organize my time    58\n",
       "Shipping costs                          22\n",
       "Unappealing designs                      8\n",
       "Name: count, dtype: int64"
      ]
     },
     "execution_count": 168,
     "metadata": {},
     "output_type": "execute_result"
    }
   ],
   "source": [
    "# if you have not purchased latest edition, why?\n",
    "Purchase_Barrier=survey[' Purchase_Barrier'].value_counts()\n",
    "Purchase_Barrier.sort_values(ascending=False)"
   ]
  },
  {
   "cell_type": "code",
   "execution_count": 169,
   "id": "f8c35139-a4eb-4176-902a-c6de6cd2d017",
   "metadata": {},
   "outputs": [
    {
     "data": {
      "text/plain": [
       "Purchase_Time\n",
       "At the start of a new year (January or December)                     99\n",
       "No specific time                                                     79\n",
       "At the beginning of a new school semester (September or February)    66\n",
       "Name: count, dtype: int64"
      ]
     },
     "execution_count": 169,
     "metadata": {},
     "output_type": "execute_result"
    }
   ],
   "source": [
    "# What time is the best for you to purchase?\n",
    "Purchase_Time=survey['Purchase_Time'].value_counts()\n",
    "Purchase_Time.sort_values(ascending=False)"
   ]
  },
  {
   "cell_type": "code",
   "execution_count": 170,
   "id": "6d02b573-52b3-431d-aa99-8e2062063361",
   "metadata": {},
   "outputs": [
    {
     "data": {
      "text/plain": [
       "Purchased\n",
       "No     133\n",
       "Yes    111\n",
       "Name: count, dtype: int64"
      ]
     },
     "execution_count": 170,
     "metadata": {},
     "output_type": "execute_result"
    }
   ],
   "source": [
    "# if customers purchased.\n",
    "Purchased=survey['Purchased'].value_counts()\n",
    "Purchased.sort_values(ascending=False)"
   ]
  },
  {
   "cell_type": "code",
   "execution_count": 171,
   "id": "4296017a-c7b6-49df-90d3-3ae0ff29168f",
   "metadata": {},
   "outputs": [
    {
     "data": {
      "text/plain": [
       "Encountered_Problems\n",
       "No     84\n",
       "Yes    27\n",
       "Name: count, dtype: int64"
      ]
     },
     "execution_count": 171,
     "metadata": {},
     "output_type": "execute_result"
    }
   ],
   "source": [
    "# Have you encountered any problems?\n",
    "Encountered_Problems=survey['Encountered_Problems'].value_counts()\n",
    "Encountered_Problems.sort_values(ascending=False)"
   ]
  },
  {
   "cell_type": "code",
   "execution_count": 172,
   "id": "4eadd047-0707-49bf-9ec2-8eeeeebc6217",
   "metadata": {},
   "outputs": [
    {
     "data": {
      "text/plain": [
       "If yes, please specify the issue\n",
       "Quality                                22\n",
       "Incorrect order (e.g., wrong color)     3\n",
       "Shipping problems                       1\n",
       "Size                                    1\n",
       "Name: count, dtype: int64"
      ]
     },
     "execution_count": 172,
     "metadata": {},
     "output_type": "execute_result"
    }
   ],
   "source": [
    "#Issues\n",
    "issues=survey['If yes, please specify the issue'].value_counts()\n",
    "issues.sort_values(ascending=False)"
   ]
  },
  {
   "cell_type": "code",
   "execution_count": 67,
   "id": "7166f4e0-2b3a-4d0c-ab5d-6823ab15cafe",
   "metadata": {},
   "outputs": [
    {
     "data": {
      "text/plain": [
       "Satisfaction\n",
       "Very satisfied    73\n",
       "Satisfied         37\n",
       "Not satisfied      1\n",
       "Name: count, dtype: int64"
      ]
     },
     "execution_count": 67,
     "metadata": {},
     "output_type": "execute_result"
    }
   ],
   "source": [
    "# Level of satisfaction among customers\n",
    "Satisfaction=survey['Satisfaction'].value_counts()\n",
    "Satisfaction"
   ]
  },
  {
   "cell_type": "code",
   "execution_count": 173,
   "id": "7dce1623-7bc9-4caa-9e20-85bdf16e4149",
   "metadata": {},
   "outputs": [
    {
     "data": {
      "text/plain": [
       "Buy_Again\n",
       "Yes    110\n",
       "No       1\n",
       "Name: count, dtype: int64"
      ]
     },
     "execution_count": 173,
     "metadata": {},
     "output_type": "execute_result"
    }
   ],
   "source": [
    "# Would customers buy again?\n",
    "Buy_Again=survey['Buy_Again'].value_counts()\n",
    "Buy_Again"
   ]
  },
  {
   "cell_type": "code",
   "execution_count": 176,
   "id": "607ab2ec-43c3-4716-8532-117a8e1bad14",
   "metadata": {},
   "outputs": [
    {
     "data": {
      "text/html": [
       "<div>\n",
       "<style scoped>\n",
       "    .dataframe tbody tr th:only-of-type {\n",
       "        vertical-align: middle;\n",
       "    }\n",
       "\n",
       "    .dataframe tbody tr th {\n",
       "        vertical-align: top;\n",
       "    }\n",
       "\n",
       "    .dataframe thead th {\n",
       "        text-align: right;\n",
       "    }\n",
       "</style>\n",
       "<table border=\"1\" class=\"dataframe\">\n",
       "  <thead>\n",
       "    <tr style=\"text-align: right;\">\n",
       "      <th></th>\n",
       "      <th>Purchase_Barrier</th>\n",
       "    </tr>\n",
       "    <tr>\n",
       "      <th>Location</th>\n",
       "      <th></th>\n",
       "    </tr>\n",
       "  </thead>\n",
       "  <tbody>\n",
       "    <tr>\n",
       "      <th>Alexandria</th>\n",
       "      <td>5</td>\n",
       "    </tr>\n",
       "    <tr>\n",
       "      <th>Cairo</th>\n",
       "      <td>5</td>\n",
       "    </tr>\n",
       "    <tr>\n",
       "      <th>Delta</th>\n",
       "      <td>7</td>\n",
       "    </tr>\n",
       "    <tr>\n",
       "      <th>Giza</th>\n",
       "      <td>1</td>\n",
       "    </tr>\n",
       "    <tr>\n",
       "      <th>Upper Egypt</th>\n",
       "      <td>4</td>\n",
       "    </tr>\n",
       "  </tbody>\n",
       "</table>\n",
       "</div>"
      ],
      "text/plain": [
       "              Purchase_Barrier\n",
       "Location                      \n",
       "Alexandria                   5\n",
       "Cairo                        5\n",
       "Delta                        7\n",
       "Giza                         1\n",
       "Upper Egypt                  4"
      ]
     },
     "execution_count": 176,
     "metadata": {},
     "output_type": "execute_result"
    }
   ],
   "source": [
    "# Count occurrences of 'Shipping costs' by location\n",
    "location_by_problem = survey.pivot_table(index='Location', values=' Purchase_Barrier', aggfunc='count')\n",
    "shipping_costs_group = survey[survey[' Purchase_Barrier'] == 'Shipping costs']\n",
    "shipping_costs_grouped = shipping_costs_group.pivot_table(index='Location', values=' Purchase_Barrier', aggfunc='count')\n",
    "shipping_costs_grouped"
   ]
  },
  {
   "cell_type": "code",
   "execution_count": 200,
   "id": "6af2ac6d-2eaf-41b7-89b4-c3f857ac46d3",
   "metadata": {},
   "outputs": [
    {
     "data": {
      "image/png": "[encoded data removed]",
      "text/plain": [
       "<Figure size 600x600 with 1 Axes>"
      ]
     },
     "metadata": {},
     "output_type": "display_data"
    }
   ],
   "source": [
    "locations = shipping_costs_grouped['Location']\n",
    "counts = shipping_costs_grouped[' Purchase_Barrier']\n",
    "plt.figure(figsize=(6, 6))\n",
    "plt.pie(counts, labels=locations, autopct='%1.1f%%', startangle=90, colors=['#c4d8f3', '#ffcc9e', 'lavender','#c4e8f3','#fffc9e'])\n",
    "\n",
    "plt.title('Shipping Costs as a Purchase Barrier by Location')\n",
    "plt.axis('equal')\n",
    "\n",
    "plt.show()\n"
   ]
  },
  {
   "cell_type": "code",
   "execution_count": 101,
   "id": "9b3b086f-d772-4475-a8b2-8c556b5818e9",
   "metadata": {},
   "outputs": [
    {
     "data": {
      "text/html": [
       "<div>\n",
       "<style scoped>\n",
       "    .dataframe tbody tr th:only-of-type {\n",
       "        vertical-align: middle;\n",
       "    }\n",
       "\n",
       "    .dataframe tbody tr th {\n",
       "        vertical-align: top;\n",
       "    }\n",
       "\n",
       "    .dataframe thead th {\n",
       "        text-align: right;\n",
       "    }\n",
       "</style>\n",
       "<table border=\"1\" class=\"dataframe\">\n",
       "  <thead>\n",
       "    <tr style=\"text-align: right;\">\n",
       "      <th></th>\n",
       "      <th>Purchase_Barrier</th>\n",
       "    </tr>\n",
       "    <tr>\n",
       "      <th>Occupation</th>\n",
       "      <th></th>\n",
       "    </tr>\n",
       "  </thead>\n",
       "  <tbody>\n",
       "    <tr>\n",
       "      <th>Both</th>\n",
       "      <td>8</td>\n",
       "    </tr>\n",
       "    <tr>\n",
       "      <th>Employee</th>\n",
       "      <td>9</td>\n",
       "    </tr>\n",
       "    <tr>\n",
       "      <th>Student</th>\n",
       "      <td>63</td>\n",
       "    </tr>\n",
       "    <tr>\n",
       "      <th>nullof the above</th>\n",
       "      <td>2</td>\n",
       "    </tr>\n",
       "  </tbody>\n",
       "</table>\n",
       "</div>"
      ],
      "text/plain": [
       "                   Purchase_Barrier\n",
       "Occupation                         \n",
       "Both                              8\n",
       "Employee                          9\n",
       "Student                          63\n",
       "nullof the above                  2"
      ]
     },
     "execution_count": 101,
     "metadata": {},
     "output_type": "execute_result"
    }
   ],
   "source": [
    "# Count occurrences of 'Product Price' by Occupation\n",
    "Occupation_by_problem = survey.pivot_table(index='Occupation', values=' Purchase_Barrier', aggfunc='count')\n",
    "product_price_group = survey[survey[' Purchase_Barrier'] == 'Product price']\n",
    "product_price_grouped = product_price_group.pivot_table(index='Occupation', values=' Purchase_Barrier', aggfunc='count')\n",
    "product_price_grouped"
   ]
  },
  {
   "cell_type": "code",
   "execution_count": 229,
   "id": "5dd40774-daee-4bd3-9d6c-78b77fc9243c",
   "metadata": {},
   "outputs": [
    {
     "data": {
      "image/png": "[encoded data removed]",
      "text/plain": [
       "<Figure size 600x600 with 1 Axes>"
      ]
     },
     "metadata": {},
     "output_type": "display_data"
    }
   ],
   "source": [
    "Occupation=product_price_grouped['Occupation']\n",
    "count=product_price_grouped[' Purchase_Barrier']\n",
    "\n",
    "plt.figure(figsize=(6, 6)) \n",
    "plt.pie(count, labels=Occupation, autopct='%1.1f%%', startangle=90, colors=['#c4d8f3', '#ffcc9e', 'lavender','#fffc9e'], textprops={'fontsize': 10},labeldistance=0.9)\n",
    "\n",
    "plt.title('Product cost as a Purchase Barrier by Occupation', fontsize=12)\n",
    "plt.axis('equal')\n",
    "\n",
    "plt.show()\n"
   ]
  },
  {
   "cell_type": "code",
   "execution_count": 108,
   "id": "edf6ae30-57e2-41b8-98bc-f244b572d08a",
   "metadata": {},
   "outputs": [
    {
     "data": {
      "text/html": [
       "<div>\n",
       "<style scoped>\n",
       "    .dataframe tbody tr th:only-of-type {\n",
       "        vertical-align: middle;\n",
       "    }\n",
       "\n",
       "    .dataframe tbody tr th {\n",
       "        vertical-align: top;\n",
       "    }\n",
       "\n",
       "    .dataframe thead th {\n",
       "        text-align: right;\n",
       "    }\n",
       "</style>\n",
       "<table border=\"1\" class=\"dataframe\">\n",
       "  <thead>\n",
       "    <tr style=\"text-align: right;\">\n",
       "      <th></th>\n",
       "      <th>Encountered_Problems</th>\n",
       "    </tr>\n",
       "    <tr>\n",
       "      <th>Satisfaction</th>\n",
       "      <th></th>\n",
       "    </tr>\n",
       "  </thead>\n",
       "  <tbody>\n",
       "    <tr>\n",
       "      <th>Satisfied</th>\n",
       "      <td>13</td>\n",
       "    </tr>\n",
       "    <tr>\n",
       "      <th>Very satisfied</th>\n",
       "      <td>14</td>\n",
       "    </tr>\n",
       "  </tbody>\n",
       "</table>\n",
       "</div>"
      ],
      "text/plain": [
       "                Encountered_Problems\n",
       "Satisfaction                        \n",
       "Satisfied                         13\n",
       "Very satisfied                    14"
      ]
     },
     "execution_count": 108,
     "metadata": {},
     "output_type": "execute_result"
    }
   ],
   "source": [
    "# Count occurrences of 'Encountered Problems' by Satisfaction\n",
    "problem = survey.pivot_table(index='Satisfaction', values='Encountered_Problems', aggfunc='count')\n",
    "Encountered_Problems = survey[survey['Encountered_Problems'] == 'Yes']\n",
    "Encountered_Problems_grouped = Encountered_Problems.pivot_table(index='Satisfaction', values='Encountered_Problems', aggfunc='count')\n",
    "Encountered_Problems_grouped"
   ]
  },
  {
   "cell_type": "code",
   "execution_count": 228,
   "id": "cb7ea867-f6ed-44c9-9782-21ce34bfb651",
   "metadata": {},
   "outputs": [
    {
     "data": {
      "image/png": "[encoded data removed]",
      "text/plain": [
       "<Figure size 600x600 with 1 Axes>"
      ]
     },
     "metadata": {},
     "output_type": "display_data"
    }
   ],
   "source": [
    "Encountered_Problems=Encountered_Problems_grouped['Satisfaction']\n",
    "c =Encountered_Problems_grouped['Encountered_Problems']\n",
    "# Create the pie chart\n",
    "plt.figure(figsize=(6, 6))\n",
    "plt.pie(c, labels=Encountered_Problems, autopct='%1.1f%%', startangle=90, colors=['#c4d8f3', '#ffcc9e'])\n",
    "\n",
    "plt.title('People Who Encountered Problems And Their Satisfaction')\n",
    "plt.axis('equal')\n",
    "\n",
    "plt.show()\n"
   ]
  },
  {
   "cell_type": "markdown",
   "id": "99a59ac5-ced9-4d4e-8c1c-a252f059ff0e",
   "metadata": {},
   "source": [
    "What is the most suitable platform for our brand?"
   ]
  },
  {
   "cell_type": "code",
   "execution_count": 179,
   "id": "1ffaed6f-d4f5-486d-ab57-78dff753351e",
   "metadata": {},
   "outputs": [
    {
     "data": {
      "text/plain": [
       "array(['Instagram', 'TikTok', 'Facebook', 'TikTok, Instagram ',\n",
       "       'Instagram, TikTok', 'Instagram, Facebook',\n",
       "       'Instagram, Facebook, TikTok', 'Facebook, TikTok'], dtype=object)"
      ]
     },
     "execution_count": 179,
     "metadata": {},
     "output_type": "execute_result"
    }
   ],
   "source": [
    "survey['Platform_Suitability'].unique()"
   ]
  },
  {
   "cell_type": "code",
   "execution_count": 184,
   "id": "c51e53e5-eeb7-4fda-87b8-ebde74017555",
   "metadata": {},
   "outputs": [
    {
     "data": {
      "text/plain": [
       "229"
      ]
     },
     "execution_count": 184,
     "metadata": {},
     "output_type": "execute_result"
    }
   ],
   "source": [
    "insta=survey[survey['Platform_Suitability'].str.contains('Instagram')].shape[0]\n",
    "insta"
   ]
  },
  {
   "cell_type": "code",
   "execution_count": 183,
   "id": "8535c205-71a6-472a-9ffe-442f9e62793d",
   "metadata": {},
   "outputs": [
    {
     "data": {
      "text/plain": [
       "23"
      ]
     },
     "execution_count": 183,
     "metadata": {},
     "output_type": "execute_result"
    }
   ],
   "source": [
    "facebook=survey[survey['Platform_Suitability'].str.contains('Facebook')].shape[0]\n",
    "facebook"
   ]
  },
  {
   "cell_type": "code",
   "execution_count": 182,
   "id": "e381a5dd-6674-43ae-a664-c5a61875cc09",
   "metadata": {},
   "outputs": [
    {
     "data": {
      "text/plain": [
       "65"
      ]
     },
     "execution_count": 182,
     "metadata": {},
     "output_type": "execute_result"
    }
   ],
   "source": [
    "Tiktok=survey[survey['Platform_Suitability'].str.contains('TikTok')].shape[0]\n",
    "Tiktok"
   ]
  },
  {
   "cell_type": "code",
   "execution_count": 188,
   "id": "101dd4be-8225-4a97-84e9-18e68968b0cb",
   "metadata": {},
   "outputs": [
    {
     "data": {
      "image/png": "[encoded data removed]",
      "text/plain": [
       "<Figure size 800x600 with 1 Axes>"
      ]
     },
     "metadata": {},
     "output_type": "display_data"
    }
   ],
   "source": [
    "# Data for the chart\n",
    "platforms = ['Instagram', 'Facebook', 'Tiktok']\n",
    "counts = [insta, facebook, Tiktok]\n",
    "\n",
    "# Create a bar chart\n",
    "plt.figure(figsize=(8, 6))  # Set figure size\n",
    "plt.bar(platforms, counts, color=['#c4d8f3', '#ffcc9e', 'lavender'])\n",
    "\n",
    "# Add labels and title\n",
    "plt.xlabel('Platform')\n",
    "plt.ylabel('Number of Mentions')\n",
    "plt.title('Platform Suitability')\n",
    "\n",
    "# Display the chart\n",
    "plt.show()"
   ]
  },
  {
   "cell_type": "code",
   "execution_count": 149,
   "id": "b89c01e6-43ea-459f-b673-915626e9b093",
   "metadata": {},
   "outputs": [
    {
     "data": {
      "text/plain": [
       "Interested_Products\n",
       "Notebooks, Planner accessories (e.g., stickers, pens), Memos, To-do lists, Weekly planners    23\n",
       "Notebooks, To-do lists, Weekly planners                                                       21\n",
       "To-do lists                                                                                   19\n",
       "Notebooks                                                                                     18\n",
       "Planner accessories (e.g., stickers, pens)                                                    18\n",
       "To-do lists, Weekly planners                                                                  18\n",
       "Weekly planners                                                                               15\n",
       "Notebooks, Planner accessories (e.g., stickers, pens), To-do lists                            15\n",
       "Notebooks, To-do lists                                                                        14\n",
       "Notebooks, Planner accessories (e.g., stickers, pens)                                         12\n",
       "Notebooks, Planner accessories (e.g., stickers, pens), To-do lists, Weekly planners           11\n",
       "Planner accessories (e.g., stickers, pens), Weekly planners                                    8\n",
       "Notebooks, Planner accessories (e.g., stickers, pens), Weekly planners                         7\n",
       "Planner accessories (e.g., stickers, pens), To-do lists                                        5\n",
       "Planner accessories (e.g., stickers, pens), To-do lists, Weekly planners                       5\n",
       "Notebooks, Memos, To-do lists, Weekly planners                                                 4\n",
       "Planner accessories (e.g., stickers, pens), Memos, To-do lists                                 4\n",
       "Not interested                                                                                 4\n",
       "Memos                                                                                          3\n",
       "Memos, To-do lists, Weekly planners                                                            3\n",
       "Notebooks, Planner accessories (e.g., stickers, pens), Memos, To-do lists                      3\n",
       "Notebooks, Memos                                                                               2\n",
       "Notebooks, Weekly planners                                                                     2\n",
       "Notebooks, Planner accessories (e.g., stickers, pens), Memos                                   2\n",
       "Planner accessories (e.g., stickers, pens), Memos                                              2\n",
       "Planner accessories (e.g., stickers, pens), Memos, Weekly planners                             1\n",
       "Planner accessories (e.g., stickers, pens), Memos, To-do lists, Weekly planners                1\n",
       "Memos, To-do lists                                                                             1\n",
       "Notebooks, Memos, To-do lists                                                                  1\n",
       "Notebooks, Not interested                                                                      1\n",
       "Planner accessories (e.g., stickers, pens), Not interested                                     1\n",
       "Name: count, dtype: int64"
      ]
     },
     "execution_count": 149,
     "metadata": {},
     "output_type": "execute_result"
    }
   ],
   "source": [
    "survey['Interested_Products'].value_counts()"
   ]
  },
  {
   "cell_type": "markdown",
   "id": "76c554d2-408c-43c4-aeab-a148a552f742",
   "metadata": {},
   "source": [
    "*What should be our next product?*"
   ]
  },
  {
   "cell_type": "code",
   "execution_count": 230,
   "id": "cc818d23-6ce9-4111-a8f8-20dc51d2ca58",
   "metadata": {},
   "outputs": [
    {
     "data": {
      "text/plain": [
       "118"
      ]
     },
     "execution_count": 230,
     "metadata": {},
     "output_type": "execute_result"
    }
   ],
   "source": [
    "Planner_accessories= survey[survey['Interested_Products'].str.contains('Planner accessories')].shape[0]\n",
    "Planner_accessories"
   ]
  },
  {
   "cell_type": "code",
   "execution_count": 156,
   "id": "eb7cf8af-0995-4c91-a6db-0ccd7018bec0",
   "metadata": {},
   "outputs": [
    {
     "data": {
      "text/plain": [
       "136"
      ]
     },
     "execution_count": 156,
     "metadata": {},
     "output_type": "execute_result"
    }
   ],
   "source": [
    "Notebooks= survey[survey['Interested_Products'].str.contains('Notebooks')].shape[0]\n",
    "Notebooks"
   ]
  },
  {
   "cell_type": "code",
   "execution_count": 160,
   "id": "6610a84d-7d91-4526-aa29-0d0822241a74",
   "metadata": {},
   "outputs": [
    {
     "data": {
      "text/plain": [
       "148"
      ]
     },
     "execution_count": 160,
     "metadata": {},
     "output_type": "execute_result"
    }
   ],
   "source": [
    "To_do_lists= survey[survey['Interested_Products'].str.contains('To-do lists')].shape[0]\n",
    "To_do_lists"
   ]
  },
  {
   "cell_type": "code",
   "execution_count": 161,
   "id": "7cf1debb-802f-43d5-9a0f-e29d62e883ed",
   "metadata": {},
   "outputs": [
    {
     "data": {
      "text/plain": [
       "50"
      ]
     },
     "execution_count": 161,
     "metadata": {},
     "output_type": "execute_result"
    }
   ],
   "source": [
    "Memos= survey[survey['Interested_Products'].str.contains('Memos')].shape[0]\n",
    "Memos"
   ]
  },
  {
   "cell_type": "code",
   "execution_count": 162,
   "id": "a819f61b-1046-49a7-8853-4b7d5a6dad6e",
   "metadata": {},
   "outputs": [
    {
     "data": {
      "text/plain": [
       "119"
      ]
     },
     "execution_count": 162,
     "metadata": {},
     "output_type": "execute_result"
    }
   ],
   "source": [
    "Weekly_planners=survey[survey['Interested_Products'].str.contains('Weekly planners')].shape[0]\n",
    "Weekly_planners"
   ]
  },
  {
   "cell_type": "code",
   "execution_count": 163,
   "id": "e296b0f1-3086-42b3-8316-5bebad9653c8",
   "metadata": {},
   "outputs": [
    {
     "data": {
      "text/plain": [
       "6"
      ]
     },
     "execution_count": 163,
     "metadata": {},
     "output_type": "execute_result"
    }
   ],
   "source": [
    "Not_interested=survey[survey['Interested_Products'].str.contains('Not interested')].shape[0]\n",
    "Not_interested"
   ]
  },
  {
   "cell_type": "code",
   "execution_count": 224,
   "id": "dd08162a-01f5-4fc7-92d2-abbc6a1a98ad",
   "metadata": {},
   "outputs": [
    {
     "data": {
      "image/png": "[encoded data removed]",
      "text/plain": [
       "<Figure size 800x600 with 1 Axes>"
      ]
     },
     "metadata": {},
     "output_type": "display_data"
    }
   ],
   "source": [
    "products= ['Notebooks', 'Memos', 'Weekly planners', 'To-do lists','Planner accessories' , 'Not interested']\n",
    "count= [Notebooks, Memos, Weekly_planners, To_do_lists, Planner_accessories, Not_interested]\n",
    "plt.figure(figsize=(8, 6))  # Set figure size\n",
    "plt.bar(products, count, color=['#c4d8f3', '#ffcc9e', 'lavender','#fffc9e','#c4e8f3'])\n",
    "\n",
    "# Add labels and title\n",
    "plt.xlabel('products')\n",
    "plt.ylabel('Number of Mentions')\n",
    "plt.title('Prefered New Products')\n",
    "plt.xticks(rotation=45)\n",
    "\n",
    "# Display the chart\n",
    "plt.show()"
   ]
  },
  {
   "cell_type": "code",
   "execution_count": null,
   "id": "b660baf8-cf86-4445-a514-3c5a4924b0c4",
   "metadata": {},
   "outputs": [],
   "source": []
  }
 ],
 "metadata": {
  "kernelspec": {
   "display_name": "Python 3 (ipykernel)",
   "language": "python",
   "name": "python3"
  },
  "language_info": {
   "codemirror_mode": {
    "name": "ipython",
    "version": 3
   },
   "file_extension": ".py",
   "mimetype": "text/x-python",
   "name": "python",
   "nbconvert_exporter": "python",
   "pygments_lexer": "ipython3",
   "version": "3.11.5"
  }
 },
 "nbformat": 4,
 "nbformat_minor": 5
}
